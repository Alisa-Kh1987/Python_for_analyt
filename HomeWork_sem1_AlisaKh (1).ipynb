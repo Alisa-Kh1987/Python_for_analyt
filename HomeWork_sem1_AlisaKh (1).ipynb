{
 "cells": [
  {
   "cell_type": "markdown",
   "id": "9661ef19",
   "metadata": {},
   "source": [
    "## Task2.\n",
    "На складе лежат разные фрукты в разном количестве.\n",
    "Нужно написать функцию, которая на вход принимает любое количество названий фруктов и их количество, а возвращает общее количество фруктов на складе"
   ]
  },
  {
   "cell_type": "code",
   "execution_count": 5,
   "id": "4e7a59f8",
   "metadata": {},
   "outputs": [],
   "source": [
    "def fruit_count(**kwargs):\n",
    "    return sum(kwargs.values())"
   ]
  },
  {
   "cell_type": "code",
   "execution_count": 6,
   "id": "684d07d9",
   "metadata": {},
   "outputs": [
    {
     "data": {
      "text/plain": [
       "15"
      ]
     },
     "execution_count": 6,
     "metadata": {},
     "output_type": "execute_result"
    }
   ],
   "source": [
    "fruit_count(orange=5, apples=4, peaches=6)"
   ]
  },
  {
   "cell_type": "markdown",
   "id": "ab383cbe",
   "metadata": {},
   "source": [
    "## Task 3\n",
    "\n",
    "Дан список с затратами на рекламу. Но в данных есть ошибки, некоторые затраты имеют отрицательную величину. Удалите такие значения из списка и посчитайте суммарные затраты\n",
    "[100, 125, -90, 345, 655, -1, 0, 200]\n",
    "Используйте list comprehensions"
   ]
  },
  {
   "cell_type": "code",
   "execution_count": 10,
   "id": "ddbb0dcc",
   "metadata": {},
   "outputs": [
    {
     "data": {
      "text/plain": [
       "[100, 125, 345, 655, 200]"
      ]
     },
     "execution_count": 10,
     "metadata": {},
     "output_type": "execute_result"
    }
   ],
   "source": [
    "adv_costs = [100, 125, -90, 345, 655, -1, 0, 200]\n",
    "costs_correct = [i for i in adv_costs if i>0]\n",
    "costs_correct"
   ]
  },
  {
   "cell_type": "code",
   "execution_count": 18,
   "id": "9ad4e2d9",
   "metadata": {},
   "outputs": [
    {
     "data": {
      "text/plain": [
       "1425"
      ]
     },
     "execution_count": 18,
     "metadata": {},
     "output_type": "execute_result"
    }
   ],
   "source": [
    "sum(costs_correct)"
   ]
  },
  {
   "cell_type": "markdown",
   "id": "a7bcda3d",
   "metadata": {},
   "source": [
    "## Task 4\n",
    "Даны два списка.\n",
    "\n",
    "Дата покупки\n",
    "['2021-09-14', '2021-12-15', '2021-09-08', '2021-12-05', '2021-10-09', '2021-09-30', '2021-12-22', '2021-11-29', '2021-12-24', '2021-11-26', '2021-10-27', '2021-12-18', '2021-11-09', '2021-11-23', '2021-09-27', '2021-10-02', '2021-12-27', '2021-09-20', '2021-12-13', '2021-11-01', '2021-11-09', '2021-12-06', '2021-12-08', '2021-10-09', '2021-10-31', '2021-09-30', '2021-11-09', '2021-12-13', '2021-10-26', '2021-12-09']\n",
    "\n",
    "Суммы покупок по датам\n",
    "[1270, 8413, 9028, 3703, 5739, 4095, 295, 4944, 5723, 3701, 4471, 651, 7037, 4274, 6275, 4988, 6930, 2971, 6592, 2004, 2822, 519, 3406, 2732, 5015, 2008, 316, 6333, 5700, 2887]"
   ]
  },
  {
   "cell_type": "markdown",
   "id": "81d48b5c",
   "metadata": {},
   "source": [
    "### Task 4.1\n",
    "4.1 Найдите, какая выручка у компании в ноябре\n",
    "Используйте list comprehensions"
   ]
  },
  {
   "cell_type": "code",
   "execution_count": 38,
   "id": "1528c7f9",
   "metadata": {},
   "outputs": [],
   "source": [
    "date_of_purchase =  ['2021-09-14', '2021-12-15', '2021-09-08', '2021-12-05', '2021-10-09', '2021-09-30', '2021-12-22', \n",
    "                     '2021-11-29', '2021-12-24', '2021-11-26', '2021-10-27', '2021-12-18', '2021-11-09', '2021-11-23', \n",
    "                     '2021-09-27', '2021-10-02', '2021-12-27', '2021-09-20', '2021-12-13', '2021-11-01', '2021-11-09', \n",
    "                     '2021-12-06', '2021-12-08', '2021-10-09', '2021-10-31', '2021-09-30', '2021-11-09', '2021-12-13', \n",
    "                     '2021-10-26', '2021-12-09']\n",
    "\n",
    "expenses = [1270, 8413, 9028, 3703, 5739, 4095, 295, 4944, 5723, 3701, 4471, 651, 7037, 4274, \n",
    "            6275, 4988, 6930, 2971, 6592, 2004, 2822, 519, 3406, 2732, 5015, 2008, 316, 6333, 5700, 2887]"
   ]
  },
  {
   "cell_type": "code",
   "execution_count": 39,
   "id": "6dafeaaa",
   "metadata": {},
   "outputs": [
    {
     "data": {
      "text/plain": [
       "25098"
      ]
     },
     "execution_count": 39,
     "metadata": {},
     "output_type": "execute_result"
    }
   ],
   "source": [
    "result = sum([expenses[i] for i in range(len(expenses)) if date_of_purchase[i].split('-')[1] == '11'])\n",
    "result"
   ]
  },
  {
   "cell_type": "markdown",
   "id": "4bc7ef8d",
   "metadata": {},
   "source": [
    "### Task 4.2\n",
    "Найдите выручку компании в зависимости от месяца\n",
    "Для этого напишите функцию, которая на вход принимает список с датами и список с выручкой, а на выходе словарь, где ключи - это месяцы, а значения - это выручка.\n",
    "Используйте аннотирование типов."
   ]
  },
  {
   "cell_type": "code",
   "execution_count": 37,
   "id": "b4b068e3",
   "metadata": {},
   "outputs": [
    {
     "data": {
      "text/plain": [
       "{'09': 25647, '12': 45452, '10': 28645, '11': 25098}"
      ]
     },
     "execution_count": 37,
     "metadata": {},
     "output_type": "execute_result"
    }
   ],
   "source": [
    "def Result_of_Months(date_of_purchase: list, expenses: list) -> dict:\n",
    "    result = {}\n",
    "    for i in range(len(date_of_purchase)):\n",
    "        if date_of_purchase[i].split('-')[1] not in result:\n",
    "            result[date_of_purchase[i].split('-')[1]] = expenses[i]\n",
    "        else:\n",
    "            result[date_of_purchase[i].split('-')[1]] += expenses[i]\n",
    "    return result\n",
    "Result_of_Months(date_of_purchase, expenses)"
   ]
  }
 ],
 "metadata": {
  "kernelspec": {
   "display_name": "Python 3 (ipykernel)",
   "language": "python",
   "name": "python3"
  },
  "language_info": {
   "codemirror_mode": {
    "name": "ipython",
    "version": 3
   },
   "file_extension": ".py",
   "mimetype": "text/x-python",
   "name": "python",
   "nbconvert_exporter": "python",
   "pygments_lexer": "ipython3",
   "version": "3.9.12"
  }
 },
 "nbformat": 4,
 "nbformat_minor": 5
}
